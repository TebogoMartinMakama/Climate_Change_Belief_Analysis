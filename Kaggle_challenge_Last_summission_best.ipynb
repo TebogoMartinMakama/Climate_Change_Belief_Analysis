{
 "cells": [
  {
   "cell_type": "markdown",
   "metadata": {},
   "source": [
    "# Introduction"
   ]
  },
  {
   "cell_type": "markdown",
   "metadata": {},
   "source": [
    "Many companies are built around lessening one’s environmental impact or carbon footprint. They offer products and services that are environmentally friendly and sustainable, in line with their values and ideals. They would like to determine how people perceive climate change and whether or not they believe it is a real threat. This would add to their market research efforts in gauging how their product/service may be received.\n",
    "\n",
    "With this context, EDSA is challenging you during the Classification Sprint with the task of creating a Machine Learning model that is able to classify whether or not a person believes in climate change, based on their novel tweet data.\n",
    "\n",
    "Providing an accurate and robust solution to this task gives companies access to a broad base of consumer sentiment, spanning multiple demographic and geographic categories - thus increasing their insights and informing future marketing strategies.."
   ]
  },
  {
   "cell_type": "markdown",
   "metadata": {},
   "source": [
    "# Getting Started"
   ]
  },
  {
   "cell_type": "markdown",
   "metadata": {},
   "source": [
    "Sentiment analysis involves natural language processing because it deals with human-written text. You'll have to download a few Python libraries to work with."
   ]
  },
  {
   "cell_type": "code",
   "execution_count": 2,
   "metadata": {},
   "outputs": [],
   "source": [
    "import pandas as pd\n",
    "import numpy as np\n",
    "import seaborn as sns\n",
    "import re\n",
    "import string\n",
    "from nltk.corpus import stopwords\n",
    "from nltk.tokenize import word_tokenize\n",
    "from sklearn.feature_extraction.text import TfidfVectorizer\n",
    "from sklearn.model_selection import train_test_split,GridSearchCV\n",
    "from nltk.stem import PorterStemmer\n",
    "from nltk.stem import WordNetLemmatizer\n",
    "# ML Libraries\n",
    "from sklearn.metrics import accuracy_score\n",
    "from sklearn.metrics import f1_score\n",
    "from sklearn.naive_bayes import MultinomialNB\n",
    "from sklearn.linear_model import LogisticRegression\n",
    "from sklearn.naive_bayes import GaussianNB\n",
    "from sklearn.neighbors import KNeighborsClassifier\n",
    "from sklearn.svm import SVC\n",
    "from sklearn.tree import DecisionTreeClassifier\n",
    "from sklearn.ensemble import RandomForestClassifier\n",
    "from sklearn.feature_extraction.text import CountVectorizer\n",
    "# Global Parameters\n",
    "stop_words = set(stopwords.words('english'))\n",
    "\n",
    "import warnings\n",
    "warnings.filterwarnings('ignore') "
   ]
  },
  {
   "cell_type": "markdown",
   "metadata": {},
   "source": [
    "# To train a machine learning model, we need data"
   ]
  },
  {
   "cell_type": "markdown",
   "metadata": {},
   "source": [
    " <h1>Load the Data that is required<h1>"
   ]
  },
  {
   "cell_type": "code",
   "execution_count": 3,
   "metadata": {},
   "outputs": [],
   "source": [
    "train = pd.read_csv('train.csv')\n",
    "test = pd.read_csv('test.csv')"
   ]
  },
  {
   "cell_type": "markdown",
   "metadata": {},
   "source": [
    "Check the data by calling the heads."
   ]
  },
  {
   "cell_type": "code",
   "execution_count": 4,
   "metadata": {},
   "outputs": [
    {
     "data": {
      "text/html": [
       "<div>\n",
       "<style scoped>\n",
       "    .dataframe tbody tr th:only-of-type {\n",
       "        vertical-align: middle;\n",
       "    }\n",
       "\n",
       "    .dataframe tbody tr th {\n",
       "        vertical-align: top;\n",
       "    }\n",
       "\n",
       "    .dataframe thead th {\n",
       "        text-align: right;\n",
       "    }\n",
       "</style>\n",
       "<table border=\"1\" class=\"dataframe\">\n",
       "  <thead>\n",
       "    <tr style=\"text-align: right;\">\n",
       "      <th></th>\n",
       "      <th>sentiment</th>\n",
       "      <th>message</th>\n",
       "      <th>tweetid</th>\n",
       "    </tr>\n",
       "  </thead>\n",
       "  <tbody>\n",
       "    <tr>\n",
       "      <td>0</td>\n",
       "      <td>1</td>\n",
       "      <td>PolySciMajor EPA chief doesn't think carbon di...</td>\n",
       "      <td>625221</td>\n",
       "    </tr>\n",
       "  </tbody>\n",
       "</table>\n",
       "</div>"
      ],
      "text/plain": [
       "   sentiment                                            message  tweetid\n",
       "0          1  PolySciMajor EPA chief doesn't think carbon di...   625221"
      ]
     },
     "execution_count": 4,
     "metadata": {},
     "output_type": "execute_result"
    }
   ],
   "source": [
    "train.head(1)"
   ]
  },
  {
   "cell_type": "markdown",
   "metadata": {},
   "source": [
    "# Pre-processing Tweets\n",
    "\n",
    "This is one of the essential steps in any natural language processing (NLP) task. Data scientists never get filtered, ready-to-use data. To make it workable, there is a lot of processing that needs to happen.\n",
    "\n",
    "## Letter casing: \n",
    "Converting all letters to either upper case or lower case.\n",
    "## Tokenizing: \n",
    "Turning the tweets into tokens. Tokens are words separated by spaces in a text.\n",
    "## Noise removal: \n",
    "Eliminating unwanted characters, such as HTML tags, punctuation marks, special characters, white spaces etc.\n",
    "## Stopword removal: \n",
    "Some words do not contribute much to the machine learning model, so it's good to remove them. A list of stopwords can be defined by the nltk library, or it can be business-specific.\n",
    "## Normalization: \n",
    "Normalization generally refers to a series of related tasks meant to put all text on the same level. Converting text to lower case, removing special characters, and removing stopwords will remove basic inconsistencies. Normalization improves text matching.\n",
    "## Stemming: \n",
    "Eliminating affixes (circumfixes, suffixes, prefixes, infixes) from a word in order to obtain a word stem. Porter Stemmer is the most widely used technique because it is very fast. Generally, stemming chops off end of the word, and mostly it works fine."
   ]
  },
  {
   "cell_type": "code",
   "execution_count": 17,
   "metadata": {},
   "outputs": [
    {
     "name": "stdout",
     "output_type": "stream",
     "text": [
      "Removing URLs... for Train\n",
      "Removing URLs...for Test data\n"
     ]
    }
   ],
   "source": [
    "## Remove urls\n",
    "print ('Removing URLs... for Train')\n",
    "pattern_url = r'http[s]?://(?:[A-Za-z]|[0-9]|[$-_@.&+]|[!*\\(\\),]|(?:%[0-9A-Fa-f][0-9A-Fa-f]))+'\n",
    "subs_url = r'url-web'\n",
    "train['message'] = train['message'].replace(to_replace = pattern_url, value = subs_url, regex = True)\n",
    "\n",
    "## Remove urls test\n",
    "print ('Removing URLs...for Test data')\n",
    "pattern_url = r'http[s]?://(?:[A-Za-z]|[0-9]|[$-_@.&+]|[!*\\(\\),]|(?:%[0-9A-Fa-f][0-9A-Fa-f]))+'\n",
    "subs_url = r'url-web'\n",
    "test['message'] = test['message'].replace(to_replace = pattern_url, value = subs_url, regex = True)\n"
   ]
  },
  {
   "cell_type": "code",
   "execution_count": 18,
   "metadata": {},
   "outputs": [
    {
     "name": "stdout",
     "output_type": "stream",
     "text": [
      "Lowering case... Train\n",
      "Lowering case... Test\n"
     ]
    }
   ],
   "source": [
    "# Make lower case\n",
    "print ('Lowering case... Train')\n",
    "train['message'] = train['message'].str.lower()\n",
    "\n",
    "# Make lower case\n",
    "print ('Lowering case... Test')\n",
    "test['message'] = test['message'].str.lower()"
   ]
  },
  {
   "cell_type": "code",
   "execution_count": 19,
   "metadata": {},
   "outputs": [
    {
     "name": "stdout",
     "output_type": "stream",
     "text": [
      "Cleaning punctuation... for Test and Train using the below function\n"
     ]
    }
   ],
   "source": [
    "#Noise removal:\n",
    "print ('Cleaning punctuation... for Test and Train using the below function')\n",
    "def remove_punctuation_numbers(post):\n",
    "    punc_numbers = string.punctuation + '0123456789'\n",
    "    return ''.join([l for l in post if l not in punc_numbers])\n",
    "train['message'] = train['message'].apply(remove_punctuation_numbers)\n",
    "test['message'] = test['message'].apply(remove_punctuation_numbers)\n"
   ]
  },
  {
   "cell_type": "code",
   "execution_count": 20,
   "metadata": {},
   "outputs": [
    {
     "name": "stdout",
     "output_type": "stream",
     "text": [
      "removing stowords.... Train\n",
      "removing stowords.... Test\n"
     ]
    }
   ],
   "source": [
    "#Stopword removal:\n",
    "print('removing stowords.... Train')\n",
    "vect = CountVectorizer(stop_words='english', min_df= .01)\n",
    "X = vect.fit_transform(train['message'])\n",
    "\n",
    "print('removing stowords.... Test')\n",
    "vect = CountVectorizer(stop_words='english', min_df= .01)\n",
    "X = vect.fit_transform(test['message'])\n"
   ]
  },
  {
   "cell_type": "code",
   "execution_count": 21,
   "metadata": {},
   "outputs": [
    {
     "name": "stdout",
     "output_type": "stream",
     "text": [
      "removing NonAscii\n"
     ]
    }
   ],
   "source": [
    "#Removed NonAscii\n",
    "print ('removing NonAscii')\n",
    "def _removeNonAscii(s): return \"\".join(i for i in s if ord(i)<128)\n",
    "train['message'] = train['message'].apply(_removeNonAscii)\n",
    "test['message'] = test['message'].apply(_removeNonAscii)"
   ]
  },
  {
   "cell_type": "code",
   "execution_count": 30,
   "metadata": {},
   "outputs": [],
   "source": [
    "#Eliminating affixes (circumfixes, suffixes, prefixes, infixes) from a word in order to obtain a word stem\n",
    "ps = PorterStemmer()\n",
    "stemmed_words = [ps.stem(w) for w in train['message']]\n",
    "stemmed_words = [ps.stem(w) for w in test['message']]\n",
    "\n",
    "#lemmatizer = WordNetLemmatizer()\n",
    "#lemma_words = [lemmatizer.lemmatize(w, pos='a') for w in train['message']]\n",
    "#lemma_words = [lemmatizer.lemmatize(w, pos='a') for w in test['message']]"
   ]
  },
  {
   "cell_type": "code",
   "execution_count": 31,
   "metadata": {},
   "outputs": [
    {
     "data": {
      "text/html": [
       "<div>\n",
       "<style scoped>\n",
       "    .dataframe tbody tr th:only-of-type {\n",
       "        vertical-align: middle;\n",
       "    }\n",
       "\n",
       "    .dataframe tbody tr th {\n",
       "        vertical-align: top;\n",
       "    }\n",
       "\n",
       "    .dataframe thead th {\n",
       "        text-align: right;\n",
       "    }\n",
       "</style>\n",
       "<table border=\"1\" class=\"dataframe\">\n",
       "  <thead>\n",
       "    <tr style=\"text-align: right;\">\n",
       "      <th></th>\n",
       "      <th>sentiment</th>\n",
       "      <th>message</th>\n",
       "      <th>tweetid</th>\n",
       "    </tr>\n",
       "  </thead>\n",
       "  <tbody>\n",
       "    <tr>\n",
       "      <td>0</td>\n",
       "      <td>1</td>\n",
       "      <td>polyscimajor epa chief doesnt think carbon dioxide is main cause of global warming and wait what  via mashable</td>\n",
       "      <td>625221</td>\n",
       "    </tr>\n",
       "    <tr>\n",
       "      <td>1</td>\n",
       "      <td>1</td>\n",
       "      <td>its not like we lack evidence of anthropogenic global warming</td>\n",
       "      <td>126103</td>\n",
       "    </tr>\n",
       "    <tr>\n",
       "      <td>2</td>\n",
       "      <td>2</td>\n",
       "      <td>rt rawstory researchers say we have three years to act on climate change before its too late</td>\n",
       "      <td>698562</td>\n",
       "    </tr>\n",
       "    <tr>\n",
       "      <td>3</td>\n",
       "      <td>1</td>\n",
       "      <td>todayinmaker wired   was a pivotal year in the war on climate change</td>\n",
       "      <td>573736</td>\n",
       "    </tr>\n",
       "    <tr>\n",
       "      <td>4</td>\n",
       "      <td>1</td>\n",
       "      <td>rt soynoviodetodas its  and a racist sexist climate change denying bigot is leading in the polls electionnight</td>\n",
       "      <td>466954</td>\n",
       "    </tr>\n",
       "    <tr>\n",
       "      <td>5</td>\n",
       "      <td>1</td>\n",
       "      <td>worth a read whether you do or dont believe in climate change</td>\n",
       "      <td>425577</td>\n",
       "    </tr>\n",
       "    <tr>\n",
       "      <td>6</td>\n",
       "      <td>1</td>\n",
       "      <td>rt thenation mike pence doesnt believe in global warming or that smoking causes lung cancer</td>\n",
       "      <td>294933</td>\n",
       "    </tr>\n",
       "    <tr>\n",
       "      <td>7</td>\n",
       "      <td>1</td>\n",
       "      <td>rt makeandmendlife six big things we can all do today to fight climate change or how to be a climate activist  h</td>\n",
       "      <td>992717</td>\n",
       "    </tr>\n",
       "    <tr>\n",
       "      <td>8</td>\n",
       "      <td>1</td>\n",
       "      <td>aceofspadeshq my yo nephew is inconsolable he wants to die of old age like me but will perish in the fiery hellscape of climate change</td>\n",
       "      <td>664510</td>\n",
       "    </tr>\n",
       "    <tr>\n",
       "      <td>9</td>\n",
       "      <td>1</td>\n",
       "      <td>rt paigetweedy no offense but like how do you just not believe in global warming</td>\n",
       "      <td>260471</td>\n",
       "    </tr>\n",
       "    <tr>\n",
       "      <td>10</td>\n",
       "      <td>1</td>\n",
       "      <td>rt stephenschlegel shes thinking about how shes going to die because your husband doesnt believe in climate change</td>\n",
       "      <td>295793</td>\n",
       "    </tr>\n",
       "    <tr>\n",
       "      <td>11</td>\n",
       "      <td>1</td>\n",
       "      <td>i do hope people who are vocal about climate change also powering their homes with renewable energy like goodenergy</td>\n",
       "      <td>763719</td>\n",
       "    </tr>\n",
       "    <tr>\n",
       "      <td>12</td>\n",
       "      <td>2</td>\n",
       "      <td>rt tveitdal we only have a  percent chance of avoiding dangerous global warming a study finds</td>\n",
       "      <td>454673</td>\n",
       "    </tr>\n",
       "    <tr>\n",
       "      <td>13</td>\n",
       "      <td>1</td>\n",
       "      <td>rt alifaith oh my god\\n\\ntrumps government removes climate change page from epa website hours ahead of climatemarch\\n\\n</td>\n",
       "      <td>41161</td>\n",
       "    </tr>\n",
       "    <tr>\n",
       "      <td>14</td>\n",
       "      <td>2</td>\n",
       "      <td>fossil fuel giant exxonmobil misled the public about climate change harvard academics conclude</td>\n",
       "      <td>658092</td>\n",
       "    </tr>\n",
       "    <tr>\n",
       "      <td>15</td>\n",
       "      <td>1</td>\n",
       "      <td>rt glblctzn i dont wanna live forever  and nothing will because climate change  taylorswift zaynmalik</td>\n",
       "      <td>319524</td>\n",
       "    </tr>\n",
       "    <tr>\n",
       "      <td>16</td>\n",
       "      <td>1</td>\n",
       "      <td>rt jackholmes issues scrubbed from  today civil rights climate change lgbt healthcare</td>\n",
       "      <td>698009</td>\n",
       "    </tr>\n",
       "    <tr>\n",
       "      <td>17</td>\n",
       "      <td>1</td>\n",
       "      <td>rt patagonia if our elected leaders fail to approach the environment amp climate change as serious issues worthy of urgency amp action it wi</td>\n",
       "      <td>490604</td>\n",
       "    </tr>\n",
       "    <tr>\n",
       "      <td>18</td>\n",
       "      <td>1</td>\n",
       "      <td>rt sensanders we have a presidentelect who doesnt believe in climate change millions of people are going to have to say mr t</td>\n",
       "      <td>228658</td>\n",
       "    </tr>\n",
       "    <tr>\n",
       "      <td>19</td>\n",
       "      <td>0</td>\n",
       "      <td>calum tweets abt reunitingish w the cast\\nsees replies begging him to come to their countries\\ncalum goes back to rting climate change</td>\n",
       "      <td>547924</td>\n",
       "    </tr>\n",
       "    <tr>\n",
       "      <td>20</td>\n",
       "      <td>1</td>\n",
       "      <td>rt ccities  c mayors representing m citizens have urged g leaders to saveourplanet from climate change you can too</td>\n",
       "      <td>625014</td>\n",
       "    </tr>\n",
       "    <tr>\n",
       "      <td>21</td>\n",
       "      <td>1</td>\n",
       "      <td>rt worldwildlife how climate change impacts wildlife  cop earthtomarrakech</td>\n",
       "      <td>690605</td>\n",
       "    </tr>\n",
       "    <tr>\n",
       "      <td>22</td>\n",
       "      <td>0</td>\n",
       "      <td>we also met this guy he let us in on some truth about climate change and gay people not existing</td>\n",
       "      <td>67545</td>\n",
       "    </tr>\n",
       "    <tr>\n",
       "      <td>23</td>\n",
       "      <td>1</td>\n",
       "      <td>\\nscientists say climate change wiped out an entire underwater ecosystem again\\nclimate</td>\n",
       "      <td>567842</td>\n",
       "    </tr>\n",
       "    <tr>\n",
       "      <td>24</td>\n",
       "      <td>1</td>\n",
       "      <td>rt tammygrubb obama raises climate change you better vote for candidates who believe in science obamaunc</td>\n",
       "      <td>684492</td>\n",
       "    </tr>\n",
       "    <tr>\n",
       "      <td>25</td>\n",
       "      <td>1</td>\n",
       "      <td>i hate to say this but mental health will be pretty low on the menu when climate change hits food production an</td>\n",
       "      <td>438578</td>\n",
       "    </tr>\n",
       "    <tr>\n",
       "      <td>26</td>\n",
       "      <td>2</td>\n",
       "      <td>bangladesh confronting climate change head on</td>\n",
       "      <td>365291</td>\n",
       "    </tr>\n",
       "    <tr>\n",
       "      <td>27</td>\n",
       "      <td>1</td>\n",
       "      <td>hey there michaels vetted and approved marketbased strategies for tackling climate change are supported by a majority of cdns cdnpoli</td>\n",
       "      <td>387685</td>\n",
       "    </tr>\n",
       "    <tr>\n",
       "      <td>28</td>\n",
       "      <td>-1</td>\n",
       "      <td>sally kohns latest evidence of climate change proves she is not a smart person  via twitchyteam need we say more</td>\n",
       "      <td>355491</td>\n",
       "    </tr>\n",
       "    <tr>\n",
       "      <td>29</td>\n",
       "      <td>1</td>\n",
       "      <td>rt startalkradio first the public understands climate change better than congress why johnholdren corybooker neiltyson explain htt</td>\n",
       "      <td>354015</td>\n",
       "    </tr>\n",
       "    <tr>\n",
       "      <td>30</td>\n",
       "      <td>0</td>\n",
       "      <td>jnpftw are these the same scientists that denounce climate change its not a choice</td>\n",
       "      <td>365051</td>\n",
       "    </tr>\n",
       "    <tr>\n",
       "      <td>31</td>\n",
       "      <td>1</td>\n",
       "      <td>rt honey a guide to global warming paris pact and the us role demforce theresistance uniteblue</td>\n",
       "      <td>432987</td>\n",
       "    </tr>\n",
       "    <tr>\n",
       "      <td>32</td>\n",
       "      <td>2</td>\n",
       "      <td>rt latimes atmospheric rivers fueled by climate change could decimate wild oysters in san francisco bay</td>\n",
       "      <td>143471</td>\n",
       "    </tr>\n",
       "    <tr>\n",
       "      <td>33</td>\n",
       "      <td>1</td>\n",
       "      <td>denying climate change ignores basic science</td>\n",
       "      <td>11622</td>\n",
       "    </tr>\n",
       "    <tr>\n",
       "      <td>34</td>\n",
       "      <td>1</td>\n",
       "      <td>bgr  china practically says trump lied about climate change</td>\n",
       "      <td>497877</td>\n",
       "    </tr>\n",
       "    <tr>\n",
       "      <td>35</td>\n",
       "      <td>1</td>\n",
       "      <td>rt berniesanders imvotingbecause the future of the planet is at stake hillary clinton will combat climate change donald trump thinks i</td>\n",
       "      <td>817108</td>\n",
       "    </tr>\n",
       "    <tr>\n",
       "      <td>36</td>\n",
       "      <td>2</td>\n",
       "      <td>rt independent trumps team removed climate change data from the white house website they may be breaking the law</td>\n",
       "      <td>526603</td>\n",
       "    </tr>\n",
       "    <tr>\n",
       "      <td>37</td>\n",
       "      <td>1</td>\n",
       "      <td>rt deborahehart toxic soils aquifers vast amts of wasted  waste water runaway climate change  what part of gas fracking don</td>\n",
       "      <td>362709</td>\n",
       "    </tr>\n",
       "    <tr>\n",
       "      <td>38</td>\n",
       "      <td>1</td>\n",
       "      <td>rt bettybowers america where climate change is unproven to people  sure a guy called noah fit all the worlds animals on hi</td>\n",
       "      <td>569142</td>\n",
       "    </tr>\n",
       "    <tr>\n",
       "      <td>39</td>\n",
       "      <td>0</td>\n",
       "      <td>we ve dealt with simple issues like climate change and energy policy now the complex issues mal vs tones qanda</td>\n",
       "      <td>403368</td>\n",
       "    </tr>\n",
       "    <tr>\n",
       "      <td>40</td>\n",
       "      <td>1</td>\n",
       "      <td>rt foramerica they protested in support of climate change at the womansmarch and then did their part to help the environment https</td>\n",
       "      <td>303380</td>\n",
       "    </tr>\n",
       "    <tr>\n",
       "      <td>41</td>\n",
       "      <td>2</td>\n",
       "      <td>climate targets nations are playing the long game in fighting global warming  via conversationedu</td>\n",
       "      <td>8984</td>\n",
       "    </tr>\n",
       "    <tr>\n",
       "      <td>42</td>\n",
       "      <td>1</td>\n",
       "      <td>rt thedailybeast trumps climate change denial could cost us  trillion</td>\n",
       "      <td>765266</td>\n",
       "    </tr>\n",
       "    <tr>\n",
       "      <td>43</td>\n",
       "      <td>0</td>\n",
       "      <td>rt andrewsharp win probability is bullshit man i saw the nba finals and thats when i knew global warming isnt real</td>\n",
       "      <td>326916</td>\n",
       "    </tr>\n",
       "    <tr>\n",
       "      <td>44</td>\n",
       "      <td>2</td>\n",
       "      <td>rt washingtonpost the alaskan tundra is filling the atmosphere with carbon dioxide worsening climate change</td>\n",
       "      <td>905639</td>\n",
       "    </tr>\n",
       "    <tr>\n",
       "      <td>45</td>\n",
       "      <td>2</td>\n",
       "      <td>rt thetorontosun from sunlorrie indian environmentalist calls out dicaprio in his own documentary on climate change</td>\n",
       "      <td>741568</td>\n",
       "    </tr>\n",
       "    <tr>\n",
       "      <td>46</td>\n",
       "      <td>-1</td>\n",
       "      <td>realdonaldtrump carbon tax is a globalist idea to enslave the worlds population it is the whole reason for propagating global warming</td>\n",
       "      <td>61141</td>\n",
       "    </tr>\n",
       "    <tr>\n",
       "      <td>47</td>\n",
       "      <td>1</td>\n",
       "      <td>will anyone who supports trumps view of climate change non polluter cronie please step forward resist impeach</td>\n",
       "      <td>344320</td>\n",
       "    </tr>\n",
       "    <tr>\n",
       "      <td>48</td>\n",
       "      <td>-1</td>\n",
       "      <td>rt stevesgoddard we had winds close to  mph in the area this afternoon i would blame climate change except that this happens pr</td>\n",
       "      <td>719523</td>\n",
       "    </tr>\n",
       "    <tr>\n",
       "      <td>49</td>\n",
       "      <td>2</td>\n",
       "      <td>rt starbuck world food supplies at risk as climate change threatens international trade warn experts</td>\n",
       "      <td>499888</td>\n",
       "    </tr>\n",
       "  </tbody>\n",
       "</table>\n",
       "</div>"
      ],
      "text/plain": [
       "    sentiment  \\\n",
       "0   1           \n",
       "1   1           \n",
       "2   2           \n",
       "3   1           \n",
       "4   1           \n",
       "5   1           \n",
       "6   1           \n",
       "7   1           \n",
       "8   1           \n",
       "9   1           \n",
       "10  1           \n",
       "11  1           \n",
       "12  2           \n",
       "13  1           \n",
       "14  2           \n",
       "15  1           \n",
       "16  1           \n",
       "17  1           \n",
       "18  1           \n",
       "19  0           \n",
       "20  1           \n",
       "21  1           \n",
       "22  0           \n",
       "23  1           \n",
       "24  1           \n",
       "25  1           \n",
       "26  2           \n",
       "27  1           \n",
       "28 -1           \n",
       "29  1           \n",
       "30  0           \n",
       "31  1           \n",
       "32  2           \n",
       "33  1           \n",
       "34  1           \n",
       "35  1           \n",
       "36  2           \n",
       "37  1           \n",
       "38  1           \n",
       "39  0           \n",
       "40  1           \n",
       "41  2           \n",
       "42  1           \n",
       "43  0           \n",
       "44  2           \n",
       "45  2           \n",
       "46 -1           \n",
       "47  1           \n",
       "48 -1           \n",
       "49  2           \n",
       "\n",
       "                                                                                                                                         message  \\\n",
       "0   polyscimajor epa chief doesnt think carbon dioxide is main cause of global warming and wait what  via mashable                                 \n",
       "1   its not like we lack evidence of anthropogenic global warming                                                                                  \n",
       "2   rt rawstory researchers say we have three years to act on climate change before its too late                                                   \n",
       "3   todayinmaker wired   was a pivotal year in the war on climate change                                                                           \n",
       "4   rt soynoviodetodas its  and a racist sexist climate change denying bigot is leading in the polls electionnight                                 \n",
       "5   worth a read whether you do or dont believe in climate change                                                                                  \n",
       "6   rt thenation mike pence doesnt believe in global warming or that smoking causes lung cancer                                                    \n",
       "7   rt makeandmendlife six big things we can all do today to fight climate change or how to be a climate activist  h                               \n",
       "8   aceofspadeshq my yo nephew is inconsolable he wants to die of old age like me but will perish in the fiery hellscape of climate change         \n",
       "9   rt paigetweedy no offense but like how do you just not believe in global warming                                                               \n",
       "10  rt stephenschlegel shes thinking about how shes going to die because your husband doesnt believe in climate change                             \n",
       "11  i do hope people who are vocal about climate change also powering their homes with renewable energy like goodenergy                            \n",
       "12  rt tveitdal we only have a  percent chance of avoiding dangerous global warming a study finds                                                  \n",
       "13  rt alifaith oh my god\\n\\ntrumps government removes climate change page from epa website hours ahead of climatemarch\\n\\n                        \n",
       "14  fossil fuel giant exxonmobil misled the public about climate change harvard academics conclude                                                 \n",
       "15  rt glblctzn i dont wanna live forever  and nothing will because climate change  taylorswift zaynmalik                                          \n",
       "16  rt jackholmes issues scrubbed from  today civil rights climate change lgbt healthcare                                                          \n",
       "17  rt patagonia if our elected leaders fail to approach the environment amp climate change as serious issues worthy of urgency amp action it wi   \n",
       "18  rt sensanders we have a presidentelect who doesnt believe in climate change millions of people are going to have to say mr t                   \n",
       "19  calum tweets abt reunitingish w the cast\\nsees replies begging him to come to their countries\\ncalum goes back to rting climate change         \n",
       "20  rt ccities  c mayors representing m citizens have urged g leaders to saveourplanet from climate change you can too                             \n",
       "21  rt worldwildlife how climate change impacts wildlife  cop earthtomarrakech                                                                     \n",
       "22  we also met this guy he let us in on some truth about climate change and gay people not existing                                               \n",
       "23  \\nscientists say climate change wiped out an entire underwater ecosystem again\\nclimate                                                        \n",
       "24  rt tammygrubb obama raises climate change you better vote for candidates who believe in science obamaunc                                       \n",
       "25  i hate to say this but mental health will be pretty low on the menu when climate change hits food production an                                \n",
       "26  bangladesh confronting climate change head on                                                                                                  \n",
       "27  hey there michaels vetted and approved marketbased strategies for tackling climate change are supported by a majority of cdns cdnpoli          \n",
       "28  sally kohns latest evidence of climate change proves she is not a smart person  via twitchyteam need we say more                               \n",
       "29  rt startalkradio first the public understands climate change better than congress why johnholdren corybooker neiltyson explain htt             \n",
       "30  jnpftw are these the same scientists that denounce climate change its not a choice                                                             \n",
       "31  rt honey a guide to global warming paris pact and the us role demforce theresistance uniteblue                                                 \n",
       "32  rt latimes atmospheric rivers fueled by climate change could decimate wild oysters in san francisco bay                                        \n",
       "33  denying climate change ignores basic science                                                                                                   \n",
       "34  bgr  china practically says trump lied about climate change                                                                                    \n",
       "35  rt berniesanders imvotingbecause the future of the planet is at stake hillary clinton will combat climate change donald trump thinks i         \n",
       "36  rt independent trumps team removed climate change data from the white house website they may be breaking the law                               \n",
       "37  rt deborahehart toxic soils aquifers vast amts of wasted  waste water runaway climate change  what part of gas fracking don                    \n",
       "38  rt bettybowers america where climate change is unproven to people  sure a guy called noah fit all the worlds animals on hi                     \n",
       "39  we ve dealt with simple issues like climate change and energy policy now the complex issues mal vs tones qanda                                 \n",
       "40  rt foramerica they protested in support of climate change at the womansmarch and then did their part to help the environment https             \n",
       "41   climate targets nations are playing the long game in fighting global warming  via conversationedu                                             \n",
       "42  rt thedailybeast trumps climate change denial could cost us  trillion                                                                          \n",
       "43  rt andrewsharp win probability is bullshit man i saw the nba finals and thats when i knew global warming isnt real                             \n",
       "44  rt washingtonpost the alaskan tundra is filling the atmosphere with carbon dioxide worsening climate change                                    \n",
       "45  rt thetorontosun from sunlorrie indian environmentalist calls out dicaprio in his own documentary on climate change                            \n",
       "46  realdonaldtrump carbon tax is a globalist idea to enslave the worlds population it is the whole reason for propagating global warming          \n",
       "47  will anyone who supports trumps view of climate change non polluter cronie please step forward resist impeach                                  \n",
       "48  rt stevesgoddard we had winds close to  mph in the area this afternoon i would blame climate change except that this happens pr                \n",
       "49  rt starbuck world food supplies at risk as climate change threatens international trade warn experts                                           \n",
       "\n",
       "    tweetid  \n",
       "0   625221   \n",
       "1   126103   \n",
       "2   698562   \n",
       "3   573736   \n",
       "4   466954   \n",
       "5   425577   \n",
       "6   294933   \n",
       "7   992717   \n",
       "8   664510   \n",
       "9   260471   \n",
       "10  295793   \n",
       "11  763719   \n",
       "12  454673   \n",
       "13  41161    \n",
       "14  658092   \n",
       "15  319524   \n",
       "16  698009   \n",
       "17  490604   \n",
       "18  228658   \n",
       "19  547924   \n",
       "20  625014   \n",
       "21  690605   \n",
       "22  67545    \n",
       "23  567842   \n",
       "24  684492   \n",
       "25  438578   \n",
       "26  365291   \n",
       "27  387685   \n",
       "28  355491   \n",
       "29  354015   \n",
       "30  365051   \n",
       "31  432987   \n",
       "32  143471   \n",
       "33  11622    \n",
       "34  497877   \n",
       "35  817108   \n",
       "36  526603   \n",
       "37  362709   \n",
       "38  569142   \n",
       "39  403368   \n",
       "40  303380   \n",
       "41  8984     \n",
       "42  765266   \n",
       "43  326916   \n",
       "44  905639   \n",
       "45  741568   \n",
       "46  61141    \n",
       "47  344320   \n",
       "48  719523   \n",
       "49  499888   "
      ]
     },
     "execution_count": 31,
     "metadata": {},
     "output_type": "execute_result"
    }
   ],
   "source": [
    "pd.set_option('display.max_colwidth', -1)\n",
    "train.head(50)"
   ]
  },
  {
   "cell_type": "code",
   "execution_count": 32,
   "metadata": {},
   "outputs": [],
   "source": [
    "#Splitting you Data for X and Y\n",
    "X_NT = train['message']\n",
    "y = train['sentiment']"
   ]
  },
  {
   "cell_type": "markdown",
   "metadata": {},
   "source": [
    "### Vectorizing Data: \n",
    "Vectorizing is the process to convert tokens to numbers. It is an important step because the machine learning algorithm works with numbers and not text.\n",
    "In this guide, you'll implement vectorization using tf-idf. There are other techniques as well, such as Bag of Words and N-grams."
   ]
  },
  {
   "cell_type": "code",
   "execution_count": 33,
   "metadata": {},
   "outputs": [],
   "source": [
    "#vector = TfidfVectorizer(sublinear_tf=True)\n",
    "vector = TfidfVectorizer(ngram_range=(1,2), min_df=2)\n",
    "X =vector.fit_transform(X_NT)"
   ]
  },
  {
   "cell_type": "markdown",
   "metadata": {},
   "source": [
    "#### Same tf vector will be used for Testing sentiments on unseen trending data"
   ]
  },
  {
   "cell_type": "markdown",
   "metadata": {},
   "source": [
    "## Setting up testing and training sets"
   ]
  },
  {
   "cell_type": "code",
   "execution_count": 34,
   "metadata": {},
   "outputs": [],
   "source": [
    "X_train, X_test, y_train, y_test = train_test_split(X, y, test_size=0.2, random_state=42)"
   ]
  },
  {
   "cell_type": "markdown",
   "metadata": {},
   "source": [
    "## Training Logistics Regression model"
   ]
  },
  {
   "cell_type": "code",
   "execution_count": 35,
   "metadata": {},
   "outputs": [
    {
     "name": "stdout",
     "output_type": "stream",
     "text": [
      "Linear with Hyperparameter C=10\n",
      "f1 score 0.6719956903241361\n",
      "accuracy_score 0.7651706700379267\n"
     ]
    }
   ],
   "source": [
    "#logist = LogisticRegression()\n",
    "LR_model = LogisticRegression(C=10)\n",
    "LR_model.fit(X_train, y_train)\n",
    "y_predict_lr = LR_model.predict(X_test)\n",
    "print('Linear with Hyperparameter C=10')\n",
    "print('f1 score',f1_score(y_test, y_predict_lr,average=\"macro\"))\n",
    "print('accuracy_score',accuracy_score(y_test, y_predict_lr))\n",
    "\n",
    "#logist = LogisticRegression()\n",
    "#param_grid = {'C':[0.001,0.01,0.1,1,5,10,20,50,100]}\n",
    "#clf = GridSearchCV(logist,param_grid=param_grid,cv=10)\n",
    "#clf.fit(X_train, y_train)\n",
    "#y_pred = clf.predict(X_test)\n",
    "#print('Linear with Grid Serach CV')\n",
    "#print(f1_score(y_test, y_pred,average=\"macro\"))\n",
    "\n"
   ]
  },
  {
   "cell_type": "markdown",
   "metadata": {},
   "source": [
    "## Checking the performance Model on the Validation set"
   ]
  },
  {
   "cell_type": "code",
   "execution_count": 45,
   "metadata": {},
   "outputs": [
    {
     "name": "stdout",
     "output_type": "stream",
     "text": [
      "0.6794900573556304\n"
     ]
    }
   ],
   "source": [
    "print(f1_score(y_test, y_predict_lr,average=\"macro\"))"
   ]
  },
  {
   "cell_type": "markdown",
   "metadata": {},
   "source": [
    "### Same tf vector will be used for Testing sentiments on unseen trending data"
   ]
  },
  {
   "cell_type": "code",
   "execution_count": 46,
   "metadata": {},
   "outputs": [],
   "source": [
    "X_NT_test = test['message']\n",
    "X_test =vector.transform(X_NT_test)"
   ]
  },
  {
   "cell_type": "markdown",
   "metadata": {},
   "source": [
    "### Making Prediction on unseen test data and adding sentiment column to our original data"
   ]
  },
  {
   "cell_type": "code",
   "execution_count": 47,
   "metadata": {},
   "outputs": [],
   "source": [
    "test_prediction_lr = LR_model.predict(X_test)"
   ]
  },
  {
   "cell_type": "code",
   "execution_count": 48,
   "metadata": {},
   "outputs": [
    {
     "data": {
      "text/plain": [
       "array([1, 1, 1, ..., 0, 0, 1], dtype=int64)"
      ]
     },
     "execution_count": 48,
     "metadata": {},
     "output_type": "execute_result"
    }
   ],
   "source": [
    "test_prediction_lr"
   ]
  },
  {
   "cell_type": "code",
   "execution_count": 49,
   "metadata": {},
   "outputs": [],
   "source": [
    "test['sentiment'] = test_prediction_lr"
   ]
  },
  {
   "cell_type": "code",
   "execution_count": 50,
   "metadata": {},
   "outputs": [
    {
     "data": {
      "text/html": [
       "<div>\n",
       "<style scoped>\n",
       "    .dataframe tbody tr th:only-of-type {\n",
       "        vertical-align: middle;\n",
       "    }\n",
       "\n",
       "    .dataframe tbody tr th {\n",
       "        vertical-align: top;\n",
       "    }\n",
       "\n",
       "    .dataframe thead th {\n",
       "        text-align: right;\n",
       "    }\n",
       "</style>\n",
       "<table border=\"1\" class=\"dataframe\">\n",
       "  <thead>\n",
       "    <tr style=\"text-align: right;\">\n",
       "      <th></th>\n",
       "      <th>message</th>\n",
       "      <th>tweetid</th>\n",
       "      <th>sentiment</th>\n",
       "    </tr>\n",
       "  </thead>\n",
       "  <tbody>\n",
       "    <tr>\n",
       "      <td>0</td>\n",
       "      <td>europe will now be looking to china to make su...</td>\n",
       "      <td>169760</td>\n",
       "      <td>1</td>\n",
       "    </tr>\n",
       "    <tr>\n",
       "      <td>1</td>\n",
       "      <td>combine this with the polling of staffers re c...</td>\n",
       "      <td>35326</td>\n",
       "      <td>1</td>\n",
       "    </tr>\n",
       "    <tr>\n",
       "      <td>2</td>\n",
       "      <td>the scary unimpeachable evidence that climate ...</td>\n",
       "      <td>224985</td>\n",
       "      <td>1</td>\n",
       "    </tr>\n",
       "    <tr>\n",
       "      <td>3</td>\n",
       "      <td>karoli morgfair osborneink dailykos \\nputin go...</td>\n",
       "      <td>476263</td>\n",
       "      <td>1</td>\n",
       "    </tr>\n",
       "    <tr>\n",
       "      <td>4</td>\n",
       "      <td>rt fakewillmoore female orgasms cause global w...</td>\n",
       "      <td>872928</td>\n",
       "      <td>0</td>\n",
       "    </tr>\n",
       "  </tbody>\n",
       "</table>\n",
       "</div>"
      ],
      "text/plain": [
       "                                             message  tweetid  sentiment\n",
       "0  europe will now be looking to china to make su...   169760          1\n",
       "1  combine this with the polling of staffers re c...    35326          1\n",
       "2  the scary unimpeachable evidence that climate ...   224985          1\n",
       "3  karoli morgfair osborneink dailykos \\nputin go...   476263          1\n",
       "4  rt fakewillmoore female orgasms cause global w...   872928          0"
      ]
     },
     "execution_count": 50,
     "metadata": {},
     "output_type": "execute_result"
    }
   ],
   "source": [
    "test.head()"
   ]
  },
  {
   "cell_type": "markdown",
   "metadata": {},
   "source": [
    "### Creating an ouput csv for submission"
   ]
  },
  {
   "cell_type": "code",
   "execution_count": 51,
   "metadata": {},
   "outputs": [],
   "source": [
    "test[['tweetid','sentiment']].to_csv('testsubmissionLrC3.csv', index=False)"
   ]
  },
  {
   "cell_type": "code",
   "execution_count": null,
   "metadata": {},
   "outputs": [],
   "source": []
  }
 ],
 "metadata": {
  "kernelspec": {
   "display_name": "Python 3",
   "language": "python",
   "name": "python3"
  },
  "language_info": {
   "codemirror_mode": {
    "name": "ipython",
    "version": 3
   },
   "file_extension": ".py",
   "mimetype": "text/x-python",
   "name": "python",
   "nbconvert_exporter": "python",
   "pygments_lexer": "ipython3",
   "version": "3.7.4"
  }
 },
 "nbformat": 4,
 "nbformat_minor": 2
}
